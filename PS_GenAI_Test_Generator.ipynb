{
 "cells": [
  {
   "cell_type": "markdown",
   "id": "071dcbac",
   "metadata": {},
   "source": [
    "# Educational Quiz Generator"
   ]
  },
  {
   "cell_type": "markdown",
   "id": "7fdbc8ba",
   "metadata": {},
   "source": [
    "Below is an educational quiz generator that uses OpenAI to generate questions and answers for different subjects. \n",
    "You can customize the difficulty level and topics for a personalized learning experience."
   ]
  },
  {
   "cell_type": "markdown",
   "id": "f793821d",
   "metadata": {},
   "source": [
    "## Installation and Configuration"
   ]
  },
  {
   "cell_type": "markdown",
   "id": "d957516d",
   "metadata": {},
   "source": [
    "### Install OpenAI with the "
   ]
  },
  {
   "cell_type": "markdown",
   "id": "3fc200ab",
   "metadata": {},
   "source": [
    "The command `pip install openai==0.28` installs version 0.28 of the OpenAI Python package using the Python package manager pip. This specific command is instructing pip to install a particular version of the openai package, in this case, version 0.28.\n",
    "\n",
    "When you specify ==0.28, it means you want to install version 0.28 exactly. This can be useful if your code or scripts are written or tested against that specific version and you want to ensure consistency.\n",
    "\n",
    "The code we are using does require version 0.28. If the code you are running does not require a specific version, it's generally a good practice to use the latest version of a package to benefit from bug fixes, improvements, and new features."
   ]
  },
  {
   "cell_type": "code",
   "execution_count": null,
   "id": "2cfc9cd5",
   "metadata": {
    "scrolled": true
   },
   "outputs": [],
   "source": [
    "pip install openai==0.28"
   ]
  },
  {
   "cell_type": "markdown",
   "id": "32b07e74",
   "metadata": {},
   "source": [
    "### OpenAI API Configuration"
   ]
  },
  {
   "cell_type": "markdown",
   "id": "80eed34e",
   "metadata": {},
   "source": [
    "1. **Import OpenAI:** The code begins by importing the `openai` Python package, which is used to interact with the OpenAI GPT (Generative Pre-trained Transformer) models.\n",
    "\n",
    "2. **Set API Key:** The OpenAI API key is set using `openai.api_key`. This key is required to authenticate and make requests to the OpenAI API. The provided key in the code is an example and should be replaced with a valid key."
   ]
  },
  {
   "cell_type": "code",
   "execution_count": null,
   "id": "e43b1cc7",
   "metadata": {},
   "outputs": [],
   "source": [
    "import openai\n",
    "\n",
    "# Set the OpenAI API key\n",
    "openai.api_key = \"<YOUR_API_KEY>\""
   ]
  },
  {
   "cell_type": "markdown",
   "id": "0053b605",
   "metadata": {},
   "source": [
    "3. **Define `generate_question` Function:** This function takes a `prompt` as input and uses the OpenAI GPT model to generate a completion based on the given prompt. It returns the generated text as the question."
   ]
  },
  {
   "cell_type": "code",
   "execution_count": null,
   "id": "cfb33d40",
   "metadata": {},
   "outputs": [],
   "source": [
    "def generate_question(prompt):\n",
    "    # Generate a question using the OpenAI GPT model\n",
    "    response = openai.Completion.create(\n",
    "        engine=\"text-davinci-003\",  # You can experiment with different engines\n",
    "        prompt=prompt,\n",
    "        max_tokens=150,\n",
    "        n=1,\n",
    "        stop=None,\n",
    "        temperature=0.7\n",
    "    )\n",
    "    return response.choices[0].text.strip()"
   ]
  },
  {
   "cell_type": "markdown",
   "id": "136f9cc9",
   "metadata": {},
   "source": [
    "4. **Define `generate_quiz` Function:** This function generates a quiz question by combining the subject and difficulty in a prompt. It then generates an answer to this question by creating another prompt. The function returns the generated question and answer pair."
   ]
  },
  {
   "cell_type": "code",
   "execution_count": null,
   "id": "5917a933",
   "metadata": {},
   "outputs": [],
   "source": [
    "def generate_quiz(subject, difficulty):\n",
    "    # Generate a quiz question and answer\n",
    "    prompt = f\"Generate a {difficulty} difficulty quiz question about {subject}:\"\n",
    "    question = generate_question(prompt)\n",
    "    answer_prompt = f\"What is the answer to the question: '{question}'?\"\n",
    "    answer = generate_question(answer_prompt)\n",
    "    return question, answer"
   ]
  },
  {
   "cell_type": "markdown",
   "id": "6fb12471",
   "metadata": {},
   "source": [
    "5. **Define `generate_personalized_quiz` Function:** This function generates a personalized quiz with a specified number of questions (`num_questions`). It calls the `generate_quiz` function for each question and answer pair, adding them to a list."
   ]
  },
  {
   "cell_type": "code",
   "execution_count": null,
   "id": "ba211d5d",
   "metadata": {},
   "outputs": [],
   "source": [
    "def generate_personalized_quiz(subject, difficulty, num_questions):\n",
    "    # Generate a personalized quiz with multiple questions and answers\n",
    "    quiz = []\n",
    "    for _ in range(num_questions):\n",
    "        question, answer = generate_quiz(subject, difficulty)\n",
    "        quiz.append({\"question\": question, \"answer\": answer})\n",
    "    return quiz"
   ]
  },
  {
   "cell_type": "markdown",
   "id": "40a429b4",
   "metadata": {},
   "source": [
    "6. **Generate a Personalized Quiz:** Using the specified subject, difficulty, and the number of questions, the code generates a personalized quiz by calling the `generate_personalized_quiz` function."
   ]
  },
  {
   "cell_type": "code",
   "execution_count": null,
   "id": "6025b1f4",
   "metadata": {},
   "outputs": [],
   "source": [
    "subject = \"math\"\n",
    "difficulty = \"easy\"\n",
    "num_questions = 5\n",
    "personalized_quiz = generate_personalized_quiz(subject, difficulty, num_questions)"
   ]
  },
  {
   "cell_type": "markdown",
   "id": "f038ff19",
   "metadata": {},
   "source": [
    "7. **Display the Quiz:** The code then iterates through the generated personalized quiz and prints each question and its corresponding answer. The enumerate function is used to number the questions."
   ]
  },
  {
   "cell_type": "code",
   "execution_count": null,
   "id": "6b496e66",
   "metadata": {},
   "outputs": [],
   "source": [
    "for i, qna in enumerate(personalized_quiz, start=1):\n",
    "    # Display the generated quiz questions and answers\n",
    "    print(f\"Question {i}: {qna['question']}\")\n",
    "    print(f\"Answer: {qna['answer']}\\n\")"
   ]
  }
 ],
 "metadata": {
  "kernelspec": {
   "display_name": "Python 3 (ipykernel)",
   "language": "python",
   "name": "python3"
  },
  "language_info": {
   "codemirror_mode": {
    "name": "ipython",
    "version": 3
   },
   "file_extension": ".py",
   "mimetype": "text/x-python",
   "name": "python",
   "nbconvert_exporter": "python",
   "pygments_lexer": "ipython3",
   "version": "3.11.5"
  }
 },
 "nbformat": 4,
 "nbformat_minor": 5
}
